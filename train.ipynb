{
 "cells": [
  {
   "cell_type": "code",
   "execution_count": 1,
   "metadata": {},
   "outputs": [
    {
     "name": "stderr",
     "output_type": "stream",
     "text": [
      "2024-07-04 22:57:30.421937: I tensorflow/core/platform/cpu_feature_guard.cc:210] This TensorFlow binary is optimized to use available CPU instructions in performance-critical operations.\n",
      "To enable the following instructions: AVX2 FMA, in other operations, rebuild TensorFlow with the appropriate compiler flags.\n"
     ]
    }
   ],
   "source": [
    "import pandas as pd\n",
    "import torch\n",
    "from sklearn.model_selection import train_test_split\n",
    "from transformers import AlbertTokenizer, AlbertForSequenceClassification, Trainer, TrainingArguments\n",
    "from sklearn.metrics import accuracy_score, precision_recall_fscore_support"
   ]
  },
  {
   "cell_type": "code",
   "execution_count": 2,
   "metadata": {},
   "outputs": [
    {
     "data": {
      "text/html": [
       "<div>\n",
       "<style scoped>\n",
       "    .dataframe tbody tr th:only-of-type {\n",
       "        vertical-align: middle;\n",
       "    }\n",
       "\n",
       "    .dataframe tbody tr th {\n",
       "        vertical-align: top;\n",
       "    }\n",
       "\n",
       "    .dataframe thead th {\n",
       "        text-align: right;\n",
       "    }\n",
       "</style>\n",
       "<table border=\"1\" class=\"dataframe\">\n",
       "  <thead>\n",
       "    <tr style=\"text-align: right;\">\n",
       "      <th></th>\n",
       "      <th>Product Name</th>\n",
       "      <th>Subcategory</th>\n",
       "    </tr>\n",
       "  </thead>\n",
       "  <tbody>\n",
       "    <tr>\n",
       "      <th>0</th>\n",
       "      <td>Mini Caramel Stroopwafels</td>\n",
       "      <td>Biscuits, Chin Chin &amp; Cookies</td>\n",
       "    </tr>\n",
       "    <tr>\n",
       "      <th>1</th>\n",
       "      <td>Large Caramel Stroopwafels</td>\n",
       "      <td>Biscuits, Chin Chin &amp; Cookies</td>\n",
       "    </tr>\n",
       "    <tr>\n",
       "      <th>2</th>\n",
       "      <td>Jumbo Caramel Stroopwafels</td>\n",
       "      <td>Biscuits, Chin Chin &amp; Cookies</td>\n",
       "    </tr>\n",
       "    <tr>\n",
       "      <th>3</th>\n",
       "      <td>Cheddar &amp; Cracked Black Pepper Bites</td>\n",
       "      <td>Biscuits, Chin Chin &amp; Cookies</td>\n",
       "    </tr>\n",
       "    <tr>\n",
       "      <th>4</th>\n",
       "      <td>Ricotta &amp; Spinach Tortelloni</td>\n",
       "      <td>Pasta &amp; Noodles</td>\n",
       "    </tr>\n",
       "    <tr>\n",
       "      <th>5</th>\n",
       "      <td>Sicilian Cannoli Salted Caramel</td>\n",
       "      <td>Chocolates &amp; Sweets</td>\n",
       "    </tr>\n",
       "    <tr>\n",
       "      <th>6</th>\n",
       "      <td>Salted Caramel Cannoli</td>\n",
       "      <td>Chocolates &amp; Sweets</td>\n",
       "    </tr>\n",
       "    <tr>\n",
       "      <th>7</th>\n",
       "      <td>Hazelnut Chocolate Cannoli</td>\n",
       "      <td>Chocolates &amp; Sweets</td>\n",
       "    </tr>\n",
       "    <tr>\n",
       "      <th>8</th>\n",
       "      <td>Aragostine Hazelnut Chocolate</td>\n",
       "      <td>Chocolates &amp; Sweets</td>\n",
       "    </tr>\n",
       "    <tr>\n",
       "      <th>9</th>\n",
       "      <td>Aragostine Lemon</td>\n",
       "      <td>Chocolates &amp; Sweets</td>\n",
       "    </tr>\n",
       "    <tr>\n",
       "      <th>10</th>\n",
       "      <td>Aragostine Pistachio</td>\n",
       "      <td>Chocolates &amp; Sweets</td>\n",
       "    </tr>\n",
       "    <tr>\n",
       "      <th>11</th>\n",
       "      <td>Aragostine White Chocolate</td>\n",
       "      <td>Chocolates &amp; Sweets</td>\n",
       "    </tr>\n",
       "  </tbody>\n",
       "</table>\n",
       "</div>"
      ],
      "text/plain": [
       "                            Product Name                    Subcategory\n",
       "0              Mini Caramel Stroopwafels  Biscuits, Chin Chin & Cookies\n",
       "1             Large Caramel Stroopwafels  Biscuits, Chin Chin & Cookies\n",
       "2             Jumbo Caramel Stroopwafels  Biscuits, Chin Chin & Cookies\n",
       "3   Cheddar & Cracked Black Pepper Bites  Biscuits, Chin Chin & Cookies\n",
       "4           Ricotta & Spinach Tortelloni                Pasta & Noodles\n",
       "5        Sicilian Cannoli Salted Caramel            Chocolates & Sweets\n",
       "6                 Salted Caramel Cannoli            Chocolates & Sweets\n",
       "7             Hazelnut Chocolate Cannoli            Chocolates & Sweets\n",
       "8          Aragostine Hazelnut Chocolate            Chocolates & Sweets\n",
       "9                       Aragostine Lemon            Chocolates & Sweets\n",
       "10                  Aragostine Pistachio            Chocolates & Sweets\n",
       "11            Aragostine White Chocolate            Chocolates & Sweets"
      ]
     },
     "execution_count": 2,
     "metadata": {},
     "output_type": "execute_result"
    }
   ],
   "source": [
    "df = pd.read_csv('train.csv')\n",
    "\n",
    "df.head(12)"
   ]
  },
  {
   "cell_type": "code",
   "execution_count": 3,
   "metadata": {},
   "outputs": [],
   "source": [
    "#Split data into train and validation sets\n",
    "train_texts, val_texts, train_labels, val_labels = train_test_split(df['Product Name'].tolist(), df['Subcategory'].tolist(), test_size=0.2, random_state=42)\n"
   ]
  },
  {
   "cell_type": "markdown",
   "metadata": {},
   "source": [
    "Decided to use ALBERT BASE VS because it is a transformer model, which means it is very efficient for NLP taaks including multi-class classification"
   ]
  },
  {
   "cell_type": "code",
   "execution_count": 4,
   "metadata": {},
   "outputs": [],
   "source": [
    "#Loading tokenizer\n",
    "tokenizer = AlbertTokenizer.from_pretrained('albert-base-v2')\n",
    "\n",
    "\n",
    "train_encodings = tokenizer(train_texts, truncation=True, padding=True)\n",
    "val_encodings = tokenizer(val_texts, truncation=True, padding=True)"
   ]
  },
  {
   "cell_type": "code",
   "execution_count": 5,
   "metadata": {},
   "outputs": [
    {
     "name": "stderr",
     "output_type": "stream",
     "text": [
      "Some weights of AlbertForSequenceClassification were not initialized from the model checkpoint at albert-base-v2 and are newly initialized: ['classifier.bias', 'classifier.weight']\n",
      "You should probably TRAIN this model on a down-stream task to be able to use it for predictions and inference.\n",
      "/Library/Frameworks/Python.framework/Versions/3.11/lib/python3.11/site-packages/transformers/training_args.py:1494: FutureWarning: `evaluation_strategy` is deprecated and will be removed in version 4.46 of 🤗 Transformers. Use `eval_strategy` instead\n",
      "  warnings.warn(\n"
     ]
    }
   ],
   "source": [
    "#change labels to numerical\n",
    "label_map = {label: i for i, label in enumerate(df['Subcategory'].unique())}\n",
    "train_labels = [label_map[label] for label in train_labels]\n",
    "val_labels = [label_map[label] for label in val_labels]\n",
    "\n",
    "# Define ALBERT model for sequence classification\n",
    "model = AlbertForSequenceClassification.from_pretrained('albert-base-v2', num_labels=len(label_map))\n",
    "\n",
    "# Define training arguments\n",
    "training_args = TrainingArguments(\n",
    "    output_dir='./results',\n",
    "    per_device_train_batch_size=8,\n",
    "    per_device_eval_batch_size=16,\n",
    "    evaluation_strategy='epoch',\n",
    "    num_train_epochs=5,\n",
    "    logging_dir='./logs',\n",
    "    logging_steps=100,\n",
    ")"
   ]
  },
  {
   "cell_type": "code",
   "execution_count": 6,
   "metadata": {},
   "outputs": [],
   "source": [
    "# Define custom metrics function\n",
    "def compute_metrics(pred):\n",
    "    labels = pred.label_ids\n",
    "    preds = pred.predictions.argmax(-1)\n",
    "    accuracy = accuracy_score(labels, preds)\n",
    "    precision, recall, f1, _ = precision_recall_fscore_support(labels, preds, average='weighted')\n",
    "    return {\n",
    "        'accuracy': accuracy,\n",
    "        'precision': precision,\n",
    "        'recall': recall,\n",
    "        'f1': f1,\n",
    "    }"
   ]
  },
  {
   "cell_type": "code",
   "execution_count": 7,
   "metadata": {},
   "outputs": [],
   "source": [
    "#Define Trainer\n",
    "class CustomDataset(torch.utils.data.Dataset):\n",
    "    def __init__(self, encodings, labels):\n",
    "        self.encodings = encodings\n",
    "        self.labels = labels\n",
    "\n",
    "    def __getitem__(self, idx):\n",
    "        item = {key: torch.tensor(val[idx]) for key, val in self.encodings.items()}\n",
    "        item['labels'] = torch.tensor(self.labels[idx])\n",
    "        return item\n",
    "\n",
    "    def __len__(self):\n",
    "        return len(self.labels)\n",
    "\n",
    "train_dataset = CustomDataset(train_encodings, train_labels)\n",
    "eval_dataset = CustomDataset(val_encodings, val_labels)\n",
    "\n",
    "trainer = Trainer(\n",
    "    model=model,\n",
    "    args=training_args,\n",
    "    train_dataset=train_dataset,\n",
    "    eval_dataset=eval_dataset,\n",
    "    compute_metrics=compute_metrics,\n",
    ")"
   ]
  },
  {
   "cell_type": "code",
   "execution_count": 8,
   "metadata": {},
   "outputs": [
    {
     "data": {
      "application/vnd.jupyter.widget-view+json": {
       "model_id": "909242cb608b4e118b5f8ebfbdb0b737",
       "version_major": 2,
       "version_minor": 0
      },
      "text/plain": [
       "  0%|          | 0/300 [00:00<?, ?it/s]"
      ]
     },
     "metadata": {},
     "output_type": "display_data"
    },
    {
     "data": {
      "application/vnd.jupyter.widget-view+json": {
       "model_id": "0bac0dec89ae45ce963baef7afd477e6",
       "version_major": 2,
       "version_minor": 0
      },
      "text/plain": [
       "  0%|          | 0/8 [00:00<?, ?it/s]"
      ]
     },
     "metadata": {},
     "output_type": "display_data"
    },
    {
     "name": "stderr",
     "output_type": "stream",
     "text": [
      "/Library/Frameworks/Python.framework/Versions/3.11/lib/python3.11/site-packages/sklearn/metrics/_classification.py:1509: UndefinedMetricWarning: Precision is ill-defined and being set to 0.0 in labels with no predicted samples. Use `zero_division` parameter to control this behavior.\n",
      "  _warn_prf(average, modifier, f\"{metric.capitalize()} is\", len(result))\n"
     ]
    },
    {
     "name": "stdout",
     "output_type": "stream",
     "text": [
      "{'eval_loss': 3.107032299041748, 'eval_accuracy': 0.16666666666666666, 'eval_precision': 0.057761078527207556, 'eval_recall': 0.16666666666666666, 'eval_f1': 0.07709878496022121, 'eval_runtime': 4.2285, 'eval_samples_per_second': 28.379, 'eval_steps_per_second': 1.892, 'epoch': 1.0}\n",
      "{'loss': 3.0766, 'grad_norm': 34.19195556640625, 'learning_rate': 3.3333333333333335e-05, 'epoch': 1.67}\n"
     ]
    },
    {
     "data": {
      "application/vnd.jupyter.widget-view+json": {
       "model_id": "f090d4ab9fd14bc091081d0e32cfa529",
       "version_major": 2,
       "version_minor": 0
      },
      "text/plain": [
       "  0%|          | 0/8 [00:00<?, ?it/s]"
      ]
     },
     "metadata": {},
     "output_type": "display_data"
    },
    {
     "name": "stderr",
     "output_type": "stream",
     "text": [
      "/Library/Frameworks/Python.framework/Versions/3.11/lib/python3.11/site-packages/sklearn/metrics/_classification.py:1509: UndefinedMetricWarning: Precision is ill-defined and being set to 0.0 in labels with no predicted samples. Use `zero_division` parameter to control this behavior.\n",
      "  _warn_prf(average, modifier, f\"{metric.capitalize()} is\", len(result))\n"
     ]
    },
    {
     "name": "stdout",
     "output_type": "stream",
     "text": [
      "{'eval_loss': 3.0092153549194336, 'eval_accuracy': 0.18333333333333332, 'eval_precision': 0.07552681992337164, 'eval_recall': 0.18333333333333332, 'eval_f1': 0.09685185185185187, 'eval_runtime': 3.9017, 'eval_samples_per_second': 30.756, 'eval_steps_per_second': 2.05, 'epoch': 2.0}\n"
     ]
    },
    {
     "data": {
      "application/vnd.jupyter.widget-view+json": {
       "model_id": "cdb710bb0536447aaf9c32c88a86a2a1",
       "version_major": 2,
       "version_minor": 0
      },
      "text/plain": [
       "  0%|          | 0/8 [00:00<?, ?it/s]"
      ]
     },
     "metadata": {},
     "output_type": "display_data"
    },
    {
     "name": "stderr",
     "output_type": "stream",
     "text": [
      "/Library/Frameworks/Python.framework/Versions/3.11/lib/python3.11/site-packages/sklearn/metrics/_classification.py:1509: UndefinedMetricWarning: Precision is ill-defined and being set to 0.0 in labels with no predicted samples. Use `zero_division` parameter to control this behavior.\n",
      "  _warn_prf(average, modifier, f\"{metric.capitalize()} is\", len(result))\n"
     ]
    },
    {
     "name": "stdout",
     "output_type": "stream",
     "text": [
      "{'eval_loss': 2.867724657058716, 'eval_accuracy': 0.26666666666666666, 'eval_precision': 0.21933456830482004, 'eval_recall': 0.26666666666666666, 'eval_f1': 0.19663489586392255, 'eval_runtime': 4.55, 'eval_samples_per_second': 26.374, 'eval_steps_per_second': 1.758, 'epoch': 3.0}\n",
      "{'loss': 2.7922, 'grad_norm': 97.9991455078125, 'learning_rate': 1.6666666666666667e-05, 'epoch': 3.33}\n"
     ]
    },
    {
     "data": {
      "application/vnd.jupyter.widget-view+json": {
       "model_id": "7464d743fe774db5b0a079a99ad21b35",
       "version_major": 2,
       "version_minor": 0
      },
      "text/plain": [
       "  0%|          | 0/8 [00:00<?, ?it/s]"
      ]
     },
     "metadata": {},
     "output_type": "display_data"
    },
    {
     "name": "stderr",
     "output_type": "stream",
     "text": [
      "/Library/Frameworks/Python.framework/Versions/3.11/lib/python3.11/site-packages/sklearn/metrics/_classification.py:1509: UndefinedMetricWarning: Precision is ill-defined and being set to 0.0 in labels with no predicted samples. Use `zero_division` parameter to control this behavior.\n",
      "  _warn_prf(average, modifier, f\"{metric.capitalize()} is\", len(result))\n"
     ]
    },
    {
     "name": "stdout",
     "output_type": "stream",
     "text": [
      "{'eval_loss': 2.7348508834838867, 'eval_accuracy': 0.325, 'eval_precision': 0.2562016687016687, 'eval_recall': 0.325, 'eval_f1': 0.24925249952839088, 'eval_runtime': 4.4069, 'eval_samples_per_second': 27.23, 'eval_steps_per_second': 1.815, 'epoch': 4.0}\n",
      "{'loss': 2.4014, 'grad_norm': 43.74592208862305, 'learning_rate': 0.0, 'epoch': 5.0}\n"
     ]
    },
    {
     "data": {
      "application/vnd.jupyter.widget-view+json": {
       "model_id": "740673a2b68143989b6290f68b32c9e7",
       "version_major": 2,
       "version_minor": 0
      },
      "text/plain": [
       "  0%|          | 0/8 [00:00<?, ?it/s]"
      ]
     },
     "metadata": {},
     "output_type": "display_data"
    },
    {
     "name": "stderr",
     "output_type": "stream",
     "text": [
      "/Library/Frameworks/Python.framework/Versions/3.11/lib/python3.11/site-packages/sklearn/metrics/_classification.py:1509: UndefinedMetricWarning: Precision is ill-defined and being set to 0.0 in labels with no predicted samples. Use `zero_division` parameter to control this behavior.\n",
      "  _warn_prf(average, modifier, f\"{metric.capitalize()} is\", len(result))\n"
     ]
    },
    {
     "name": "stdout",
     "output_type": "stream",
     "text": [
      "{'eval_loss': 2.643828868865967, 'eval_accuracy': 0.30833333333333335, 'eval_precision': 0.26779067949018687, 'eval_recall': 0.30833333333333335, 'eval_f1': 0.24708042853204143, 'eval_runtime': 3.5219, 'eval_samples_per_second': 34.072, 'eval_steps_per_second': 2.271, 'epoch': 5.0}\n",
      "{'train_runtime': 344.4846, 'train_samples_per_second': 6.938, 'train_steps_per_second': 0.871, 'train_loss': 2.7567286682128906, 'epoch': 5.0}\n"
     ]
    }
   ],
   "source": [
    "# Fine-tune ALBERT\n",
    "trainer.train()\n",
    "\n",
    "\n",
    "model.save_pretrained('./production')"
   ]
  },
  {
   "cell_type": "code",
   "execution_count": 9,
   "metadata": {},
   "outputs": [
    {
     "name": "stdout",
     "output_type": "stream",
     "text": [
      "Predicted subcategory for 'Mini Caramel Stroopwafels': Biscuits, Chin Chin & Cookies\n"
     ]
    }
   ],
   "source": [
    "#test\n",
    "text_to_predict = \"Mini Caramel Stroopwafels\"\n",
    "inputs = tokenizer(text_to_predict, return_tensors=\"pt\")\n",
    "outputs = model(**inputs)\n",
    "predicted_label_idx = outputs.logits.argmax().item()\n",
    "predicted_label = list(label_map.keys())[predicted_label_idx]\n",
    "\n",
    "print(f\"Predicted subcategory for '{text_to_predict}': {predicted_label}\")"
   ]
  },
  {
   "cell_type": "code",
   "execution_count": 10,
   "metadata": {},
   "outputs": [],
   "source": [
    "#reate label2category mapping\n",
    "label2category = {v: k for k, v in label_map.items()}"
   ]
  },
  {
   "cell_type": "code",
   "execution_count": 11,
   "metadata": {},
   "outputs": [
    {
     "name": "stdout",
     "output_type": "stream",
     "text": [
      "{0: 'Biscuits, Chin Chin & Cookies', 1: 'Pasta & Noodles', 2: 'Chocolates & Sweets', 3: 'Flour & Baking Powder', 4: 'Baking Tools & Accessories', 5: 'Fruit Juices & Yoghurt', 6: 'Nuts & Seeds', 7: 'Sugar, Honey & Sweeteners', 8: 'Canned Foods', 9: 'Salt & Seasoning Cubes', 10: 'Everyday Tea', 11: 'Grains & Rice', 12: 'Oats & Instant Cereals', 13: 'Breakfast & Cereals', 14: 'Cooking Tools & Accessories', 15: 'Cooking Sauces', 16: 'Alcoholic Drinks', 17: 'Fizzy Drinks & Malt', 18: 'Non-Alcoholic Drinks', 19: 'Snacks & Confectioneries', 20: 'Butter, Cheese & Other Spreads', 21: 'Herbs & Spices', 22: 'Chips & Snacks', 23: 'Herbal Teas', 24: 'Beverages & Milk', 25: 'Diapering', 26: 'Baby & Toddler Health', 27: 'Daily Care', 28: 'Feeding & Nursing', 29: 'Toys & Gears', 30: 'School Bag', 31: 'Beer', 32: 'Wines & Champagne '}\n"
     ]
    }
   ],
   "source": [
    "print(label2category)"
   ]
  },
  {
   "cell_type": "code",
   "execution_count": null,
   "metadata": {},
   "outputs": [],
   "source": []
  }
 ],
 "metadata": {
  "kernelspec": {
   "display_name": "Python 3",
   "language": "python",
   "name": "python3"
  },
  "language_info": {
   "codemirror_mode": {
    "name": "ipython",
    "version": 3
   },
   "file_extension": ".py",
   "mimetype": "text/x-python",
   "name": "python",
   "nbconvert_exporter": "python",
   "pygments_lexer": "ipython3",
   "version": "3.11.5"
  }
 },
 "nbformat": 4,
 "nbformat_minor": 2
}
